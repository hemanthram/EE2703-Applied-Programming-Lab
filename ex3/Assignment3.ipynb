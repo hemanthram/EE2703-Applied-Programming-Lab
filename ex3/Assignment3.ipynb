{
 "cells": [
  {
   "cell_type": "markdown",
   "metadata": {},
   "source": [
    "Importing required libraries:"
   ]
  },
  {
   "cell_type": "code",
   "execution_count": 2,
   "metadata": {},
   "outputs": [],
   "source": [
    "%matplotlib qt\n",
    "from pylab import *\n",
    "from scipy.special import *\n",
    "x = arange(0,10,0.1)\n",
    "y = jv(0,x)\n",
    "y1 = jv(1,x)\n",
    "plot(x,y,x,y1)\n",
    "show()"
   ]
  },
  {
   "cell_type": "markdown",
   "metadata": {},
   "source": [
    "# Part 1\n",
    "Below code was given to generate the data with different errors for the assignment."
   ]
  },
  {
   "cell_type": "code",
   "execution_count": 4,
   "metadata": {},
   "outputs": [],
   "source": [
    "# script to generate data files for the least squares assignment\n",
    "import scipy.special as sp\n",
    "N=101                           # no of data points\n",
    "k=9                             # no of sets of data with varying noise\n",
    "\n",
    "# generate the data points and add noise\n",
    "t=linspace(0,10,N)              # t vector\n",
    "y=1.05*sp.jn(2,t)-0.105*t       # f(t) vector\n",
    "Y=meshgrid(y,ones(k),indexing='ij')[0] # make k copies\n",
    "scl=logspace(-1,-3,k)           # noise stdev\n",
    "n=dot(randn(N,k),diag(scl))     # generate k vectors\n",
    "yy=Y+n                          # add noise to signal\n",
    "\n",
    "# shadow plot\n",
    "plot(t,yy)\n",
    "xlabel(r'$t$',size=20)\n",
    "ylabel(r'$f(t)+n$',size=20)\n",
    "title(r'Plot of the data to be fitted')\n",
    "grid(True)\n",
    "savetxt(\"fitting.dat\",c_[t,yy]) # write out matrix to file\n",
    "show()\n",
    "savefig('part1.png')"
   ]
  },
  {
   "cell_type": "markdown",
   "metadata": {},
   "source": [
    "# Part 2\n",
    "Loading the generated data and generating labels for the plot coming up next with different sigmas."
   ]
  },
  {
   "cell_type": "code",
   "execution_count": 5,
   "metadata": {
    "scrolled": true
   },
   "outputs": [],
   "source": [
    "import numpy as np\n",
    "a = loadtxt('fitting.dat', delimiter=' ')\n",
    "labels = []\n",
    "sigmas = logspace(-1,-3,9)\n",
    "for i in range(9):\n",
    "    labels.append('\\u03C3 = '+str(np.round(sigmas[i],6)))\n",
    "labels.append('true value')"
   ]
  },
  {
   "cell_type": "markdown",
   "metadata": {},
   "source": [
    "# Part 3-4\n",
    "Plotting the true value along with the ones with errors generated above."
   ]
  },
  {
   "cell_type": "code",
   "execution_count": 6,
   "metadata": {
    "scrolled": true
   },
   "outputs": [],
   "source": [
    "def gfunc(t,A,B):\n",
    "    res = A*(jv(2,t))+B*(t)\n",
    "    return res\n",
    "A = 1.05\n",
    "B = -0.105\n",
    "g = gfunc(a[:,0],A,B) \n",
    "plot(a[:,0],a[:,1:])\n",
    "plot(a[:,0],g)\n",
    "legend(labels,loc = 'upper right',ncol=2,title='Sigma values')\n",
    "title('Figure-0')\n",
    "xlabel('t',size = 15)\n",
    "ylabel('f(t)',size = 15)\n",
    "show()\n",
    "savefig('part3-4.png')"
   ]
  },
  {
   "cell_type": "markdown",
   "metadata": {},
   "source": [
    "# Part 5\n",
    "Plotting the errorbar asked for the first coloum of data (with sigma = 0.1)."
   ]
  },
  {
   "cell_type": "code",
   "execution_count": 7,
   "metadata": {},
   "outputs": [],
   "source": [
    "errorbar(a[:,0][::5],a[:,1][::5],0.1,fmt = 'ro')\n",
    "plot(a[:,0],g)\n",
    "title('Figure-0')\n",
    "xlabel('t',size = 15)\n",
    "ylabel('f(t)',size = 15)\n",
    "legend(['true value','data'],loc = 'upper right',ncol=2)\n",
    "grid()\n",
    "show()\n",
    "savefig('errorbar.png')"
   ]
  },
  {
   "cell_type": "markdown",
   "metadata": {},
   "source": [
    "# Part 6\n",
    "Generating the M matrix by generating the J coloum separately and joining it with the first coloum (*t data*) of the generated data. Mulitplying it with p and checking if result matches with the one generated previously using *np.array_equal()*."
   ]
  },
  {
   "cell_type": "code",
   "execution_count": 8,
   "metadata": {},
   "outputs": [
    {
     "data": {
      "text/plain": [
       "True"
      ]
     },
     "execution_count": 8,
     "metadata": {},
     "output_type": "execute_result"
    }
   ],
   "source": [
    "J = jv(2,a[:,0])\n",
    "p = c_[[A,B]]\n",
    "M = c_[J,a[:,0]]\n",
    "g0 = np.dot(M,p)\n",
    "g = c_[g]\n",
    "np.array_equal(g,g0)"
   ]
  },
  {
   "cell_type": "markdown",
   "metadata": {},
   "source": [
    "# Part 7\n",
    "Writing function to find MS error for given A and B parameters by taking difference, squaring and using the *np.sum()*."
   ]
  },
  {
   "cell_type": "code",
   "execution_count": 10,
   "metadata": {},
   "outputs": [],
   "source": [
    "J = jv(2,a[:,0])\n",
    "M = c_[J,a[:,0]]\n",
    "f = c_[a[:,1]]\n",
    "def MSE(A,B):\n",
    "    p = c_[[A,B]]\n",
    "    g0 = np.dot(M,p)\n",
    "    return np.sum((f-g0)**2)"
   ]
  },
  {
   "cell_type": "markdown",
   "metadata": {},
   "source": [
    "# Part 8\n",
    "We plot the contour plot of the MSE with A and B. For doing so, we first generate the meshgrid using *np.meshgrid()*, for A ranging from 0 -> 2 and for B ranging from -0.2 -> 0. Then finding the MSE for each pair of A and B possible using the above function and plotting using *contour()*. We mark the true value using the *text()* and using *clabel()* for labeling appropriate values in contour plot."
   ]
  },
  {
   "cell_type": "code",
   "execution_count": 11,
   "metadata": {},
   "outputs": [],
   "source": [
    "As = arange(0,2.1,0.1)\n",
    "Bs = arange(0,0-.21,-0.01)\n",
    "X,Y = np.meshgrid(As,Bs)\n",
    "E = np.zeros(X.shape)\n",
    "for i in range(X.shape[0]):\n",
    "    for j in range(Y.shape[1]):\n",
    "        E[i][j] = MSE(X[i][j],Y[i][j])/101\n",
    "Cs = contour(X,Y,E,20)\n",
    "title('Contour plot of MSE')\n",
    "plot(1.05,-0.105,marker = 'o',color = 'b')\n",
    "text(1.07,-0.105,'True Value')\n",
    "clabel(Cs,Cs.levels[:5],fontsize = 10)\n",
    "xlabel('A value')\n",
    "ylabel('B value')\n",
    "show()\n",
    "savefig('contour.png')"
   ]
  },
  {
   "cell_type": "markdown",
   "metadata": {},
   "source": [
    "# Part 9-10\n",
    "Using *scipy.linalg.lstsq()*, finding A and B for minimum MSE possible for each data with different noises. Then, finding error in A and B for different noises from the original values of A and B which is stored in *AB*. *ae* and *be* contain appropriate errors in A and B. Using this, we generate the plot w.r.t the sigma of the noise."
   ]
  },
  {
   "cell_type": "code",
   "execution_count": 13,
   "metadata": {},
   "outputs": [],
   "source": [
    "import scipy\n",
    "AB = scipy.linalg.lstsq(M,g)[0]\n",
    "ae = []; be=[];\n",
    "for i in range(1,10,1):\n",
    "    ab = scipy.linalg.lstsq(M,c_[a[:,i]])[0]\n",
    "    error = AB-ab\n",
    "    ae.append(error[0]**2)\n",
    "    be.append(error[1]**2)\n",
    "plot(sigmas,ae,'ro:',sigmas,be,'o--',markersize=4)\n",
    "legend(['Aerr','Berr'])\n",
    "xlabel('Noise Standard Deviation (\\u03C3)')\n",
    "grid()\n",
    "show()"
   ]
  },
  {
   "cell_type": "markdown",
   "metadata": {},
   "source": [
    "# Part 11\n",
    "Plotting the same in the logscale using the *loglog()* function, along with the errorbars also."
   ]
  },
  {
   "cell_type": "code",
   "execution_count": 14,
   "metadata": {},
   "outputs": [],
   "source": [
    "loglog(sigmas,ae,'o',markersize=4)\n",
    "loglog(sigmas,be,'o',markersize=4)\n",
    "errorbar(sigmas,ae,0.0001,fmt='ro',label = 'A_error')\n",
    "errorbar(sigmas,be,0.000001,fmt='go',label = 'B_error')\n",
    "legend()\n",
    "show()"
   ]
  }
 ],
 "metadata": {
  "kernelspec": {
   "display_name": "Python 3",
   "language": "python",
   "name": "python3"
  },
  "language_info": {
   "codemirror_mode": {
    "name": "ipython",
    "version": 3
   },
   "file_extension": ".py",
   "mimetype": "text/x-python",
   "name": "python",
   "nbconvert_exporter": "python",
   "pygments_lexer": "ipython3",
   "version": "3.7.3"
  }
 },
 "nbformat": 4,
 "nbformat_minor": 2
}
