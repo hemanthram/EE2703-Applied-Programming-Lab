{
 "cells": [
  {
   "cell_type": "markdown",
   "metadata": {},
   "source": [
    "## EE2703 \n",
    "# Assignment - 1\n",
    "(Reading .netlist file and printing details in reverse order)  \n",
    "Hemanth Ram (EE18B132)"
   ]
  },
  {
   "cell_type": "markdown",
   "metadata": {},
   "source": [
    "Importing sys library for getting input from command line"
   ]
  },
  {
   "cell_type": "code",
   "execution_count": 1,
   "metadata": {
    "scrolled": true
   },
   "outputs": [],
   "source": [
    "import sys"
   ]
  },
  {
   "cell_type": "markdown",
   "metadata": {},
   "source": [
    "Reading file name"
   ]
  },
  {
   "cell_type": "code",
   "execution_count": 4,
   "metadata": {},
   "outputs": [
    {
     "name": "stdout",
     "output_type": "stream",
     "text": [
      "Enter file name : ckt1.netlist\n"
     ]
    }
   ],
   "source": [
    "# if(len(sys.argv) < 2):\n",
    "# \tprint('Enter file name')\n",
    "# \texit()\n",
    "# filename = sys.argv[1]\n",
    "filename = input('Enter file name : ')"
   ]
  },
  {
   "cell_type": "markdown",
   "metadata": {},
   "source": [
    "Trying to open file, else, exiting"
   ]
  },
  {
   "cell_type": "code",
   "execution_count": 5,
   "metadata": {},
   "outputs": [],
   "source": [
    "try:\n",
    "\tf = open(filename, 'r')\n",
    "except Exception:\n",
    "\tprint('File not found')\n",
    "\tsys.exit(0)"
   ]
  },
  {
   "cell_type": "markdown",
   "metadata": {},
   "source": [
    "Reading lines of file and striping '\\n' from each line"
   ]
  },
  {
   "cell_type": "code",
   "execution_count": 6,
   "metadata": {},
   "outputs": [],
   "source": [
    "netlist = list(map(lambda x : x.strip('\\n'),f.readlines()))"
   ]
  },
  {
   "cell_type": "markdown",
   "metadata": {},
   "source": [
    "Finding line number where '.circuit' and '.end' occurs and storing in start and end respectively."
   ]
  },
  {
   "cell_type": "code",
   "execution_count": 7,
   "metadata": {},
   "outputs": [],
   "source": [
    "size = len(netlist)\n",
    "start = 0\n",
    "end = 0\n",
    "for i in range(size):\n",
    "\tif(netlist[i] == '.circuit'):\n",
    "\t\tstart = i\n",
    "\tif(netlist[i] == '.end'):\n",
    "\t\tend = i"
   ]
  },
  {
   "cell_type": "markdown",
   "metadata": {},
   "source": [
    "Exiting if the netlist file is invalid"
   ]
  },
  {
   "cell_type": "code",
   "execution_count": 8,
   "metadata": {},
   "outputs": [],
   "source": [
    "if(start >= end):\n",
    "\tprint('Invalid .netlist file')\n",
    "\tsys.exit(0)"
   ]
  },
  {
   "cell_type": "markdown",
   "metadata": {},
   "source": [
    "Extracting only the useful part of file (from .circuit to .end)"
   ]
  },
  {
   "cell_type": "code",
   "execution_count": 9,
   "metadata": {},
   "outputs": [],
   "source": [
    "netlist = netlist[start+1:end]"
   ]
  },
  {
   "cell_type": "markdown",
   "metadata": {},
   "source": [
    "Checking for comments and removing them"
   ]
  },
  {
   "cell_type": "code",
   "execution_count": 10,
   "metadata": {},
   "outputs": [],
   "source": [
    "l = len(netlist)\t\t# Finding length of netlist\n",
    "ntl = []\t\t# ntl is the final list of lists which contains the details of elements \n",
    "for i in range(l):\n",
    "\tline = netlist[i]\n",
    "\tind = line.find('#')\t# Finding where \"#\" occurs or where comment starts\n",
    "\tif(ind == -1):\t\t\t# If no comment present:\n",
    "\t\tntl.append(line.split(' '))\t\t# Appending line without change\n",
    "\t\tcontinue\n",
    "\telif(ind == 0):\t\t\t# If entire line is a comment, skipping it\n",
    "\t\tcontinue\n",
    "\tntl.append(line[:ind].strip(' ').split(' '))\t# If '#' present, considering only what is present before that"
   ]
  },
  {
   "cell_type": "markdown",
   "metadata": {},
   "source": [
    "Printing details of each element in reverse order as asked"
   ]
  },
  {
   "cell_type": "code",
   "execution_count": 11,
   "metadata": {},
   "outputs": [
    {
     "name": "stdout",
     "output_type": "stream",
     "text": [
      "1e3 1 GND R1 \n",
      "4e3 2 1 R2 \n",
      "20e3 GND 2 R3 \n",
      "8e3 in3 2 R4 \n",
      "10e3 in1 GND R5 \n",
      "5 in1 GND V1 \n"
     ]
    }
   ],
   "source": [
    "for l in ntl:\n",
    "\tl.reverse()\t\t# Reversing details of each element\n",
    "\tfor ele in l:\n",
    "\t\tprint(ele, end=' ')\t\t# Printing the detail\n",
    "\tprint('')"
   ]
  }
 ],
 "metadata": {
  "kernelspec": {
   "display_name": "Python 3",
   "language": "python",
   "name": "python3"
  },
  "language_info": {
   "codemirror_mode": {
    "name": "ipython",
    "version": 3
   },
   "file_extension": ".py",
   "mimetype": "text/x-python",
   "name": "python",
   "nbconvert_exporter": "python",
   "pygments_lexer": "ipython3",
   "version": "3.6.7"
  }
 },
 "nbformat": 4,
 "nbformat_minor": 2
}
