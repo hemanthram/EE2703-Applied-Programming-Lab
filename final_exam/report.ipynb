{
 "cells": [
  {
   "cell_type": "markdown",
   "metadata": {},
   "source": [
    "### (b) Algorithm to determine $h$ from the observed resonant frequency $f$\n",
    "We know that the resonant frequency is given by $2\\pi f = 1/{\\sqrt{LC}}$. Also for the given setup, the capcaitance $C$ can be calculated as the series combination of $C_1 = \\frac{A\\epsilon_o}{d}\\; and\\; C_2 = \\frac{A\\epsilon_o\\epsilon_r}{d}\\; $which gives us :\n",
    "$$\\frac{1}{C} = \\frac{1}{A\\epsilon_o}({L_y-h + \\frac{\\epsilon_r}{h}})$$ where,   \n",
    "$$A = Cross\\; section\\; area\\; of\\; the\\; tank$$\n",
    "$$h = Height\\; till\\; which\\; fluid\\; is\\; filled$$\n",
    "$$L_y = Total\\; height\\; of\\; the\\; tank$$\n",
    "$$\\epsilon_r = Relative\\; permittivity\\; of\\; the\\; fluid$$  \n",
    "So given the above variables, the inductance of the inductor used in RLC circuit, the h required for the resonant frequency can be found out, using the expression mentioned above."
   ]
  },
  {
   "cell_type": "markdown",
   "metadata": {},
   "source": [
    "### (c) Parallelizing the computation\n",
    "The central part of the computaitons done involve updating very huge matrices using their old values. Using for-loops for doing this would lead python to a crawl and thus would slow down the process. To parallelize these operations, we use **vectorization**. We splice different parts of the matrices required for updation and perform the update with these, in a single line. \n"
   ]
  }
 ],
 "metadata": {
  "kernelspec": {
   "display_name": "Python 3",
   "language": "python",
   "name": "python3"
  },
  "language_info": {
   "codemirror_mode": {
    "name": "ipython",
    "version": 3
   },
   "file_extension": ".py",
   "mimetype": "text/x-python",
   "name": "python",
   "nbconvert_exporter": "python",
   "pygments_lexer": "ipython3",
   "version": "3.7.3"
  }
 },
 "nbformat": 4,
 "nbformat_minor": 2
}
