{
 "cells": [
  {
   "cell_type": "markdown",
   "metadata": {},
   "source": [
    "# Assignment 2 -\n",
    "In this assignment, we get as input a netlist file, extract useful parts of it, and solve the circuit using the Matrix method. "
   ]
  },
  {
   "cell_type": "markdown",
   "metadata": {},
   "source": [
    "Importing Required Libraries for the process:  \n",
    "- sys - system operations  \n",
    "- numpy - matrix manipulations  \n",
    "- math & cmath - general math computations"
   ]
  },
  {
   "cell_type": "code",
   "execution_count": 1,
   "metadata": {},
   "outputs": [],
   "source": [
    "import sys\n",
    "import numpy as np\n",
    "import math\n",
    "import cmath"
   ]
  },
  {
   "cell_type": "markdown",
   "metadata": {},
   "source": [
    "Function to return value given in some other notation"
   ]
  },
  {
   "cell_type": "code",
   "execution_count": 2,
   "metadata": {},
   "outputs": [],
   "source": [
    "def parse_val(x):\n",
    "    y = len(x)\n",
    "    if(not x[y-1].isalpha()):\n",
    "        return float(x)\n",
    "    if(x[y-1]=='p'):\n",
    "        return float(x[0:y-1])* 1e-12   \n",
    "    if(x[y-1]=='n'):\n",
    "        return float(x[0:y-1])* 1e-9\n",
    "    if(x[y-1]=='u'):\n",
    "        return float(x[0:y-1])* 1e-6\n",
    "    if(x[y-1]=='m'):\n",
    "        return float(x[0:y-1])* 1e-3\n",
    "    if(x[y-1]=='k'):\n",
    "        return float(x[0:y-1])* 1e3\n",
    "    if(x[y-1]=='M'):\n",
    "        return float(x[0:y-1])* 1e6\n",
    "    if(x[y-1]=='G'):\n",
    "        return float(x[0:y-1])* 1e9"
   ]
  },
  {
   "cell_type": "markdown",
   "metadata": {},
   "source": [
    "# Part 1 - Class Definition\n",
    "Component class which takes the information about the component as input and creates object.  \n",
    "The *name* contains name of node, the *nodes* contain the nodes the element is connected to, and the *value* contains the corresponding value of the node. The global variable *node* is a dictionary which has the list of all nodes present in the circuit, and is updated whenever a *comp* object is initialized."
   ]
  },
  {
   "cell_type": "code",
   "execution_count": 3,
   "metadata": {},
   "outputs": [],
   "source": [
    "class comp:\n",
    "\tname = ''\n",
    "\tnodes = []\n",
    "\tvalue = 0\n",
    "\tglobal node,w\n",
    "\tdef __init__(self, info):\n",
    "\t\tl = len(info)\n",
    "\t\tself.name = info[0]\n",
    "\t\tself.nodes = info[1:]\n",
    "\t\tself.nodes.pop()\n",
    "\t\tif(l == 4):\n",
    "\t\t\tif(self.name[0] == 'R' or self.name[0] == 'V' or self.name[0] == 'I'):\n",
    "\t\t\t\tself.value = parse_val(info[-1])\n",
    "\t\t\telif(self.name[0] == 'L'):\n",
    "\t\t\t\tif(AC == 1):\n",
    "\t\t\t\t\tself.value = complex(0,parse_val(info[-1])*w)\n",
    "\t\t\t\telse:\n",
    "\t\t\t\t\tself.value = 10**(-9)\n",
    "\t\t\telif(self.name[0] == 'C'):\n",
    "\t\t\t\tif(AC == 1):\n",
    "\t\t\t\t\tself.value = complex(0,-1/(parse_val(info[-1])*w))\n",
    "\t\t\t\telse:\n",
    "\t\t\t\t\tself.value = 10**(9)\n",
    "\t\telif(l == 5):\n",
    "\t\t\tself.nodes.pop()\n",
    "\t\t\tself.value = parse_val(info[-1])\n",
    "\t\telse:\n",
    "\t\t\t_ = [self.nodes.pop() for i in range(2)]\n",
    "\t\t\tphi = parse_val(info[-1])\n",
    "\t\t\tv = (parse_val(info[-2]))/2\n",
    "\t\t\tself.value = v*complex(math.cos(phi),math.sin(phi))\n",
    "\t\tfor n in self.nodes:\n",
    "\t\t\tnode[n] = True"
   ]
  },
  {
   "cell_type": "markdown",
   "metadata": {},
   "source": [
    "# Part 2 - Reading file\n",
    "Getting *filename* and trying to open it, if not, exiting."
   ]
  },
  {
   "cell_type": "code",
   "execution_count": 4,
   "metadata": {
    "scrolled": true
   },
   "outputs": [
    {
     "name": "stdout",
     "output_type": "stream",
     "text": [
      "Enter File Name : ckt.netlist\n"
     ]
    }
   ],
   "source": [
    "# if(len(sys.argv) < 2):\n",
    "# \tprint('Enter file name')\n",
    "# \texit()\n",
    "# filename = sys.argv[1]\n",
    "filename = input('Enter File Name : ')\n",
    "try:\n",
    "\tf = open(filename, 'r')\n",
    "except Exception:\n",
    "\tprint('File not found')\n",
    "\tsys.exit(0)"
   ]
  },
  {
   "cell_type": "markdown",
   "metadata": {},
   "source": [
    "Finding '.circuit' and '.end' in the file to extract the useful part and checking if '.ac' is specified, if yes, then reading the frequency also for further calculation in w. If the circuit is AC, then the *AC* flag is also set."
   ]
  },
  {
   "cell_type": "code",
   "execution_count": 5,
   "metadata": {},
   "outputs": [
    {
     "name": "stdout",
     "output_type": "stream",
     "text": [
      "The netlist contains :\n",
      "[\n",
      "['V1', 'n1', 'GND', 'ac', '5', '0']\n",
      "['C1', 'n1', 'n2', '1']\n",
      "['R1', 'n2', 'n3', '1000']\n",
      "['L1', 'n3', 'GND', '1e-6']\n",
      "]\n"
     ]
    }
   ],
   "source": [
    "netlist = list(map(lambda x : x.strip('\\n'),f.readlines()))\n",
    "f.close()\n",
    "size = len(netlist)\n",
    "start = 0\n",
    "end = 0\n",
    "AC = 0\n",
    "w = 0\n",
    "for i in range(size):\n",
    "\tif(netlist[i] == '.circuit'):\n",
    "\t\tstart = i\n",
    "\tif(netlist[i] == '.end'):\n",
    "\t\tend = i\n",
    "\tif(netlist[i].split(' ')[0] == '.ac'):\n",
    "\t\tAC = 1\n",
    "\t\tw = parse_val(netlist[i].split(' ')[2])\n",
    "\t\tw = w*(math.pi)*2\n",
    "\t\tbreak\n",
    "if(start >= end):\n",
    "\tprint('Invalid .netlist file')\n",
    "\tsys.exit(0)\n",
    "netlist = netlist[start+1:end]\n",
    "netlist = list(map(lambda x : (x.split('#')[0].strip(' ')).split(' '), netlist))\n",
    "print('The netlist contains :\\n[')\n",
    "for nn in netlist:\n",
    "    print(nn)\n",
    "print(']')"
   ]
  },
  {
   "cell_type": "markdown",
   "metadata": {},
   "source": [
    "# Part 3 - Initializing necessary variables\n",
    "'n' is the number of nodes, 'vs' is the number of voltage sources present. Each node is given a specific number starting from 0 and will be referenced further using the dictionary. Similarly each voltage source is also given a number using the 'Vs' dict. Finally, the 'ckt' list contains all the 'comp' objects created for each element."
   ]
  },
  {
   "cell_type": "code",
   "execution_count": 6,
   "metadata": {},
   "outputs": [],
   "source": [
    "node = {}\n",
    "Vs = {}\n",
    "vs = 0 \n",
    "ckt = [comp(x) for x in netlist]\n",
    "n = 0\n",
    "for k in node:\n",
    "\tnode[k] = n; n+=1\n",
    "\n",
    "for ele in ckt:\n",
    "\tif(ele.name[0] == 'V'):\n",
    "\t\tVs[ele.name] = vs\n",
    "\t\tvs += 1"
   ]
  },
  {
   "cell_type": "markdown",
   "metadata": {},
   "source": [
    "If the circuit is AC, then declaring the M and b matrices to contain complex values, else, leaving to be default type."
   ]
  },
  {
   "cell_type": "code",
   "execution_count": 7,
   "metadata": {},
   "outputs": [],
   "source": [
    "if(AC != 1):\n",
    "\tM = np.zeros((n+vs,n+vs))\n",
    "\tb = np.zeros(n+vs)\n",
    "else:\n",
    "\tM = np.zeros((n+vs,n+vs),dtype = np.complex)\n",
    "\tb = np.zeros(n+vs,dtype = np.complex)"
   ]
  },
  {
   "cell_type": "markdown",
   "metadata": {},
   "source": [
    "# Part 4 - Updating the M matrix\n",
    "Each element in 'ckt' is checked for type and M is updated accordingly."
   ]
  },
  {
   "cell_type": "code",
   "execution_count": 8,
   "metadata": {},
   "outputs": [
    {
     "name": "stdout",
     "output_type": "stream",
     "text": [
      "\n",
      "The M Matrix :\n",
      "[[ 1.      +0.j          0.      +0.j          0.      +0.j\n",
      "   0.      +0.j          0.      +0.j        ]\n",
      " [ 0.      +0.j          0.    -159.15494309j  0.      +0.j\n",
      "   0.    +159.15494309j -1.      +0.j        ]\n",
      " [ 0.   -6283.18530718j  0.      +0.j          0.001+6283.18530718j\n",
      "  -0.001   +0.j          0.      +0.j        ]\n",
      " [ 0.      +0.j          0.    +159.15494309j -0.001   +0.j\n",
      "   0.001 -159.15494309j  0.      +0.j        ]\n",
      " [ 1.      +0.j         -1.      +0.j          0.      +0.j\n",
      "   0.      +0.j          0.      +0.j        ]]\n",
      "\n",
      "The b Matrix :\n",
      "[0. +0.j 0. +0.j 0. +0.j 0. +0.j 2.5+0.j]\n"
     ]
    }
   ],
   "source": [
    "for ele in ckt:\n",
    "\tif(ele.name[0] == 'V'):\n",
    "\t\thigh = node[ele.nodes[0]]\n",
    "\t\tlow = node[ele.nodes[1]]\n",
    "\t\tM[n+Vs[ele.name]][high] = 1\n",
    "\t\tM[n+Vs[ele.name]][low] = -1\n",
    "\t\tb[n+Vs[ele.name]] = ele.value\n",
    "\t\tif(high != 0):\n",
    "\t\t\tM[high][n+Vs[ele.name]] = 1\n",
    "\t\tif(low != 0):\n",
    "\t\t\tM[low][n+Vs[ele.name]] = -1\n",
    "\telif(ele.name[0] == 'R' or ele.name[0] == 'L' or ele.name[0] == 'C'):\n",
    "\t\tn1 = node[ele.nodes[0]]\n",
    "\t\tn2 = node[ele.nodes[1]]\n",
    "\t\tif(n1 != 0):\n",
    "\t\t\tM[n1][n1] = M[n1][n1] + 1/(ele.value)\n",
    "\t\t\tM[n1][n2] = M[n1][n2] - 1/(ele.value)\n",
    "\t\tif(n2 != 0):\n",
    "\t\t\tM[n2][n1] = M[n2][n1] - 1/(ele.value)\n",
    "\t\t\tM[n2][n2] = M[n2][n2] + 1/(ele.value)\n",
    "\telif(ele.name[0] == 'I'):\n",
    "\t\tfr = node[ele.nodes[0]]\n",
    "\t\tto = node[ele.nodes[1]]\n",
    "\t\tb[fr] = b[fr] + ele.value\n",
    "\t\tb[to] = b[to] - ele.value\n",
    "M[0][0] = 1\n",
    "print('\\nThe M Matrix :')\n",
    "print(M)\n",
    "print('\\nThe b Matrix :')\n",
    "print(b)"
   ]
  },
  {
   "cell_type": "markdown",
   "metadata": {},
   "source": [
    "# Part 5 - Solving the matrices to get solutions\n",
    "If node 'GND' is present, setting that to 0 and getting the offset to be added. Then, the equations are solved using the *numpy.linalg.solve* function. If not possible, then exiting."
   ]
  },
  {
   "cell_type": "code",
   "execution_count": 9,
   "metadata": {},
   "outputs": [
    {
     "name": "stdout",
     "output_type": "stream",
     "text": [
      "Solved Matrix\n",
      "\n",
      "Results :\n",
      "[-5.26599533e-28+0.00000000e+00j -2.50000000e+00+0.00000000e+00j\n",
      "  2.43667426e-12+3.97887358e-07j -2.50000000e+00+1.57079633e-05j\n",
      " -2.50000000e-03+1.53100759e-08j]\n"
     ]
    }
   ],
   "source": [
    "try:\n",
    "    x = np.linalg.solve(M,b)\n",
    "except:\n",
    "    print('Matrix unsolvable')\n",
    "    sys.exit(0)\n",
    "for k in node:\n",
    "    if(k == 'GND'):\n",
    "        offset = x[node[k]]\n",
    "print('Solved Matrix')\n",
    "print('\\nResults :')\n",
    "print(x)"
   ]
  },
  {
   "cell_type": "markdown",
   "metadata": {},
   "source": [
    "Printing the results using the offset value. For AC circuits, using the *cmath* library to compute phase and amp, rounding them and printing them accordingly."
   ]
  },
  {
   "cell_type": "code",
   "execution_count": 10,
   "metadata": {},
   "outputs": [
    {
     "name": "stdout",
     "output_type": "stream",
     "text": [
      "V(n1) = 2.5 < 0\n",
      "V(GND) = 0.0 < 0\n",
      "V(n2) = 2.5 < 0\n",
      "V(n3) = 0.0 < 90\n",
      "I in V1 = 0.0025 < 180\n"
     ]
    }
   ],
   "source": [
    "if(AC != 1):\n",
    "    for k in node:\n",
    "        print('V('+k+') = '+str(round(x[node[k]]-offset,3)))\n",
    "    for V in Vs:\n",
    "        print('I in '+ V +' = ' + str(round(x[n+Vs[V]],3)))  \n",
    "else:\n",
    "    for k in node:\n",
    "        cmp = x[node[k]]-offset\n",
    "        phase = round(cmath.phase(cmp)*(180/math.pi))\n",
    "        amp = round(abs(cmp),3)\n",
    "        print('V('+k+') = '+str(amp)+' < '+str(phase))\n",
    "    for V in Vs:\n",
    "        cmp = x[n+Vs[V]]\n",
    "        phase = round(cmath.phase(cmp)*(180/math.pi))\n",
    "        amp = round(abs(cmp),6)\n",
    "        print('I in '+ V +' = ' + str(amp)+' < '+str(phase))  "
   ]
  }
 ],
 "metadata": {
  "kernelspec": {
   "display_name": "Python 3",
   "language": "python",
   "name": "python3"
  },
  "language_info": {
   "codemirror_mode": {
    "name": "ipython",
    "version": 3
   },
   "file_extension": ".py",
   "mimetype": "text/x-python",
   "name": "python",
   "nbconvert_exporter": "python",
   "pygments_lexer": "ipython3",
   "version": "3.7.3"
  }
 },
 "nbformat": 4,
 "nbformat_minor": 2
}
